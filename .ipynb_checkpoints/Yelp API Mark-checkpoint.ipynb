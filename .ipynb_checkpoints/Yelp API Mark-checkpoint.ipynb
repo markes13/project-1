{
 "cells": [
  {
   "cell_type": "code",
   "execution_count": 126,
   "metadata": {},
   "outputs": [],
   "source": [
    "import requests\n",
    "import pandas as pd\n",
    "import json"
   ]
  },
  {
   "cell_type": "code",
   "execution_count": 127,
   "metadata": {},
   "outputs": [],
   "source": [
    "try:\n",
    "    # For Python 3.0 and later\n",
    "    from urllib.error import HTTPError\n",
    "    from urllib.parse import quote\n",
    "    from urllib.parse import urlencode\n",
    "except:\n",
    "    pass"
   ]
  },
  {
   "cell_type": "code",
   "execution_count": 128,
   "metadata": {},
   "outputs": [],
   "source": [
    "API_KEY= 'wcjEpgt9JW47_hKJohRDAUVsQTeujRNT6frAtu0B9sI8ADuLYXjG1a9vdhjLKehkoDWssIykJJeDf7xaHbIFXqQNA3BZ_k0Ox_aLSTBF8vLjMsIMn8_E0Oac28qcWnYx' \n",
    "\n",
    "\n",
    "# API constants, you shouldn't have to change these.\n",
    "API_HOST = 'https://api.yelp.com'\n",
    "SEARCH_PATH = '/v3/businesses/search'\n",
    "BUSINESS_PATH = '/v3/businesses/'  # Business ID will come after slash."
   ]
  },
  {
   "cell_type": "code",
   "execution_count": 129,
   "metadata": {},
   "outputs": [],
   "source": [
    "def request(host, path, api_key, url_params=None):\n",
    "    url_params = url_params or {}\n",
    "    url = '{0}{1}'.format(host, quote(path.encode('utf8')))\n",
    "    headers = {\n",
    "        'Authorization': 'Bearer %s' % api_key,\n",
    "    }\n",
    "    print(u'Querying {0} ...'.format(url))\n",
    "    response = requests.request('GET', url, headers=headers, params=url_params)\n",
    "    return response.json()"
   ]
  },
  {
   "cell_type": "code",
   "execution_count": 130,
   "metadata": {},
   "outputs": [],
   "source": [
    "def search(api_key, term, location):\n",
    "    url_params = {\n",
    "        'term': term.replace(' ', '+'),\n",
    "        'location': location.replace(' ', '+')\n",
    "        ,'limit': SEARCH_LIMIT,\n",
    "        'sort_by': 'rating',\n",
    "    }\n",
    "    return request(API_HOST, SEARCH_PATH, api_key, url_params=url_params)"
   ]
  },
  {
   "cell_type": "code",
   "execution_count": 134,
   "metadata": {},
   "outputs": [
    {
     "name": "stdout",
     "output_type": "stream",
     "text": [
      "Querying https://api.yelp.com/v3/businesses/search ...\n"
     ]
    }
   ],
   "source": [
    "term='restaurant'\n",
    "location = 'Austin'\n",
    "df = search(API_KEY, term, location)"
   ]
  },
  {
   "cell_type": "code",
   "execution_count": 135,
   "metadata": {},
   "outputs": [
    {
     "name": "stdout",
     "output_type": "stream",
     "text": [
      "best restaurant in Austin\n"
     ]
    }
   ],
   "source": [
    "business =  [x for x in [data.get(\"id\",{}) for data in df['businesses']] if x is not None]\n",
    "rating =  [x for x in [data.get(\"rating\",{}) for data in df['businesses']] if x is not None]\n",
    "review = [x for x in [data.get(\"review_count\",{}) for data in df['businesses']] if x is not None]\n",
    "address = [x for x in [data.get('location').get('display_address') for data in df['businesses']] if x is not None]\n",
    "distance = [x for x in [data.get(\"distance\",{})/1000 for data in df['businesses']] if x is not None]\n",
    "Lat = [x for x in [data.get('coordinates').get('latitude') for data in df['businesses']] if x is not None]\n",
    "Long = [x for x in [data.get('coordinates').get('longitude') for data in df['businesses']] if x is not None]\n",
    "#distance = distance_1/1000\n",
    "\n",
    "Info_df = pd.DataFrame({'Business':business,'Address':address,'Rating':rating,'Review Count':review,\n",
    "                        \"Distance\":distance,'Lat':Lat,'Long':Long})\n",
    "\n",
    "print('best '+term+ \" in \"+location)\n",
    "#lat"
   ]
  },
  {
   "cell_type": "code",
   "execution_count": 136,
   "metadata": {},
   "outputs": [
    {
     "name": "stderr",
     "output_type": "stream",
     "text": [
      "/anaconda3/envs/learnpython/lib/python3.6/site-packages/ipykernel/__main__.py:4: SettingWithCopyWarning: \n",
      "A value is trying to be set on a copy of a slice from a DataFrame\n",
      "\n",
      "See the caveats in the documentation: http://pandas.pydata.org/pandas-docs/stable/indexing.html#indexing-view-versus-copy\n",
      "/anaconda3/envs/learnpython/lib/python3.6/site-packages/ipykernel/__main__.py:5: SettingWithCopyWarning: \n",
      "A value is trying to be set on a copy of a slice from a DataFrame\n",
      "\n",
      "See the caveats in the documentation: http://pandas.pydata.org/pandas-docs/stable/indexing.html#indexing-view-versus-copy\n",
      "/anaconda3/envs/learnpython/lib/python3.6/site-packages/ipykernel/__main__.py:6: SettingWithCopyWarning: \n",
      "A value is trying to be set on a copy of a slice from a DataFrame\n",
      "\n",
      "See the caveats in the documentation: http://pandas.pydata.org/pandas-docs/stable/indexing.html#indexing-view-versus-copy\n"
     ]
    },
    {
     "name": "stdout",
     "output_type": "stream",
     "text": [
      "['1403 E 7th St', 'Austin, TX 78702']\n",
      "['5000 Burnet Rd', 'Austin, TX 78756']\n",
      "['900 E 11th St', 'Austin, TX 78702']\n",
      "['2500 E 6th St', 'Austin, TX 78702']\n",
      "['11800 N Lamar Blvd', 'Austin, TX 78753']\n",
      "['3595 Ranch Rd 620 S', 'Bee Cave, TX 78738']\n",
      "['502 W 30th St', 'Austin, TX 78705']\n",
      "['8909 Burnet Rd', 'Austin, TX 78757']\n",
      "['3103 S Lamar Blvd', 'Austin, TX 78704']\n",
      "['1100 Grand Ave Pkwy', 'Ste 100', 'Pflugerville, TX 78660']\n",
      "['2101 Manor Rd', 'Austin, TX 78722']\n",
      "['517 N Ih 35', 'Austin, TX 78702']\n",
      "['504 W Oltorf St', 'Austin, TX 78704']\n",
      "['5000 Burnet Rd', 'Austin, TX 78756']\n",
      "['2027 E Cesar Chavez St', 'Austin, TX 78702']\n",
      "['7101-A Woodrow Ave', 'Austin, TX 78757']\n",
      "['15608 Spring Hill Ln', 'Ste 105', 'Pflugerville, TX 78660']\n",
      "['510 Rio Grande St', 'Austin, TX 78701']\n",
      "['801 S Lamar Blvd', 'Austin, TX 78704']\n",
      "['1501 E 6th St', 'Austin, TX 78702']\n"
     ]
    },
    {
     "data": {
      "text/html": [
       "<div>\n",
       "<style scoped>\n",
       "    .dataframe tbody tr th:only-of-type {\n",
       "        vertical-align: middle;\n",
       "    }\n",
       "\n",
       "    .dataframe tbody tr th {\n",
       "        vertical-align: top;\n",
       "    }\n",
       "\n",
       "    .dataframe thead th {\n",
       "        text-align: right;\n",
       "    }\n",
       "</style>\n",
       "<table border=\"1\" class=\"dataframe\">\n",
       "  <thead>\n",
       "    <tr style=\"text-align: right;\">\n",
       "      <th></th>\n",
       "      <th>Address</th>\n",
       "      <th>Business</th>\n",
       "      <th>Distance</th>\n",
       "      <th>Lat</th>\n",
       "      <th>Long</th>\n",
       "      <th>Rating</th>\n",
       "      <th>Review Count</th>\n",
       "    </tr>\n",
       "  </thead>\n",
       "  <tbody>\n",
       "    <tr>\n",
       "      <th>0</th>\n",
       "      <td>[1403 E 7th St, Austin, TX 78702]</td>\n",
       "      <td>Boteco Austin</td>\n",
       "      <td>5.369920</td>\n",
       "      <td>30.264310</td>\n",
       "      <td>-97.727890</td>\n",
       "      <td>5.0</td>\n",
       "      <td>319</td>\n",
       "    </tr>\n",
       "    <tr>\n",
       "      <th>1</th>\n",
       "      <td>[5000 Burnet Rd, Austin, TX 78756]</td>\n",
       "      <td>T Locs Sonora Hot Dogs Austin</td>\n",
       "      <td>2.495523</td>\n",
       "      <td>30.321169</td>\n",
       "      <td>-97.739506</td>\n",
       "      <td>5.0</td>\n",
       "      <td>304</td>\n",
       "    </tr>\n",
       "    <tr>\n",
       "      <th>2</th>\n",
       "      <td>[900 E 11th St, Austin, TX 78702]</td>\n",
       "      <td>Franklin Barbecue Austin</td>\n",
       "      <td>4.650562</td>\n",
       "      <td>30.270090</td>\n",
       "      <td>-97.731260</td>\n",
       "      <td>4.5</td>\n",
       "      <td>3683</td>\n",
       "    </tr>\n",
       "    <tr>\n",
       "      <th>3</th>\n",
       "      <td>[2500 E 6th St, Austin, TX 78702]</td>\n",
       "      <td>Dee Dee Austin</td>\n",
       "      <td>6.600515</td>\n",
       "      <td>30.259010</td>\n",
       "      <td>-97.714450</td>\n",
       "      <td>5.0</td>\n",
       "      <td>244</td>\n",
       "    </tr>\n",
       "    <tr>\n",
       "      <th>4</th>\n",
       "      <td>[11800 N Lamar Blvd, Austin, TX 78753]</td>\n",
       "      <td>Santorini Cafe Austin</td>\n",
       "      <td>11.584154</td>\n",
       "      <td>30.387600</td>\n",
       "      <td>-97.683990</td>\n",
       "      <td>4.5</td>\n",
       "      <td>543</td>\n",
       "    </tr>\n",
       "  </tbody>\n",
       "</table>\n",
       "</div>"
      ],
      "text/plain": [
       "                                  Address                        Business  \\\n",
       "0       [1403 E 7th St, Austin, TX 78702]                  Boteco Austin    \n",
       "1      [5000 Burnet Rd, Austin, TX 78756]  T Locs Sonora Hot Dogs Austin    \n",
       "2       [900 E 11th St, Austin, TX 78702]        Franklin Barbecue Austin   \n",
       "3       [2500 E 6th St, Austin, TX 78702]                 Dee Dee Austin    \n",
       "4  [11800 N Lamar Blvd, Austin, TX 78753]           Santorini Cafe Austin   \n",
       "\n",
       "    Distance        Lat       Long  Rating  Review Count  \n",
       "0   5.369920  30.264310 -97.727890     5.0           319  \n",
       "1   2.495523  30.321169 -97.739506     5.0           304  \n",
       "2   4.650562  30.270090 -97.731260     4.5          3683  \n",
       "3   6.600515  30.259010 -97.714450     5.0           244  \n",
       "4  11.584154  30.387600 -97.683990     4.5           543  "
      ]
     },
     "execution_count": 136,
     "metadata": {},
     "output_type": "execute_result"
    }
   ],
   "source": [
    "from string import digits\n",
    "\n",
    "for x in range(len(Info_df['Business'])):\n",
    "    Info_df['Business'][x] = Info_df['Business'][x].replace('-', ' ')\n",
    "    Info_df['Business'][x] = Info_df['Business'][x].title()\n",
    "    Info_df['Business'][x] = (Info_df['Business'][x]).translate(str.maketrans('', '', digits))\n",
    "    \n",
    "Info_df.head()"
   ]
  },
  {
   "cell_type": "code",
   "execution_count": null,
   "metadata": {},
   "outputs": [],
   "source": []
  },
  {
   "cell_type": "code",
   "execution_count": null,
   "metadata": {},
   "outputs": [],
   "source": []
  }
 ],
 "metadata": {
  "kernelspec": {
   "display_name": "Python [conda env:learnpython]",
   "language": "python",
   "name": "conda-env-learnpython-py"
  },
  "language_info": {
   "codemirror_mode": {
    "name": "ipython",
    "version": 3
   },
   "file_extension": ".py",
   "mimetype": "text/x-python",
   "name": "python",
   "nbconvert_exporter": "python",
   "pygments_lexer": "ipython3",
   "version": "3.6.4"
  }
 },
 "nbformat": 4,
 "nbformat_minor": 2
}
