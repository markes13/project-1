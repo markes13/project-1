{
 "cells": [
  {
   "cell_type": "code",
   "execution_count": 1,
   "metadata": {},
   "outputs": [
    {
     "name": "stdout",
     "output_type": "stream",
     "text": [
      "Collecting geopy\n",
      "  Downloading geopy-1.11.0-py2.py3-none-any.whl (66kB)\n",
      "Installing collected packages: geopy\n",
      "Successfully installed geopy-1.11.0\n"
     ]
    }
   ],
   "source": [
    "!pip install geopy"
   ]
  },
  {
   "cell_type": "code",
   "execution_count": 24,
   "metadata": {},
   "outputs": [],
   "source": [
    "from geopy.geocoders import Nominatim\n",
    "geolocator = Nominatim()\n",
    "import random\n",
    "import sys\n",
    "import math\n"
   ]
  },
  {
   "cell_type": "code",
   "execution_count": 5,
   "metadata": {},
   "outputs": [],
   "source": [
    " location = geolocator.geocode(\"austin, TX\")"
   ]
  },
  {
   "cell_type": "code",
   "execution_count": 29,
   "metadata": {},
   "outputs": [],
   "source": [
    "x0 = location.latitude\n",
    "y0 = location.longitude\n",
    "\n",
    "radius = 10000                         #Choose your own radius\n",
    "radiusInDegrees=radius/111300            \n",
    "r = radiusInDegrees\n",
    "\n"
   ]
  },
  {
   "cell_type": "code",
   "execution_count": 30,
   "metadata": {},
   "outputs": [],
   "source": [
    "for i in range(1,100):                 #Choose number of Lat Long to be generated\n",
    "\n",
    "  u = float(random.uniform(0.0,1.0))\n",
    "  v = float(random.uniform(0.0,1.0))\n",
    "\n",
    "  w = r * math.sqrt(u)\n",
    "  t = 2 * math.pi * v\n",
    "  x = w * math.cos(t) \n",
    "  y = w * math.sin(t)\n",
    "  \n",
    "  xLat  = x + x0\n",
    "  yLong = y + y0\n"
   ]
  },
  {
   "cell_type": "code",
   "execution_count": 28,
   "metadata": {},
   "outputs": [
    {
     "data": {
      "text/plain": [
       "30.318269581687098"
      ]
     },
     "execution_count": 28,
     "metadata": {},
     "output_type": "execute_result"
    }
   ],
   "source": [
    "xLat"
   ]
  },
  {
   "cell_type": "code",
   "execution_count": 21,
   "metadata": {},
   "outputs": [
    {
     "name": "stdout",
     "output_type": "stream",
     "text": [
      "30.2711286\n"
     ]
    }
   ],
   "source": [
    "print(location.latitude)"
   ]
  },
  {
   "cell_type": "code",
   "execution_count": 22,
   "metadata": {},
   "outputs": [
    {
     "name": "stdout",
     "output_type": "stream",
     "text": [
      "-97.7436995\n"
     ]
    }
   ],
   "source": [
    "print(location.longitude)"
   ]
  },
  {
   "cell_type": "code",
   "execution_count": 23,
   "metadata": {},
   "outputs": [
    {
     "data": {
      "text/plain": [
       "{'boundingbox': ['30.0986648', '30.516885', '-97.938383', '-97.561489'],\n",
       " 'class': 'place',\n",
       " 'display_name': 'Austin, Travis County, Texas, United States of America',\n",
       " 'icon': 'https://nominatim.openstreetmap.org/images/mapicons/poi_place_city.p.20.png',\n",
       " 'importance': 0.25973509710955,\n",
       " 'lat': '30.2711286',\n",
       " 'licence': 'Data © OpenStreetMap contributors, ODbL 1.0. https://www.openstreetmap.org/copyright',\n",
       " 'lon': '-97.7436995',\n",
       " 'osm_id': '113314',\n",
       " 'osm_type': 'relation',\n",
       " 'place_id': '177491735',\n",
       " 'type': 'city'}"
      ]
     },
     "execution_count": 23,
     "metadata": {},
     "output_type": "execute_result"
    }
   ],
   "source": [
    "location.raw"
   ]
  },
  {
   "cell_type": "code",
   "execution_count": null,
   "metadata": {},
   "outputs": [],
   "source": []
  }
 ],
 "metadata": {
  "kernelspec": {
   "display_name": "Python [default]",
   "language": "python",
   "name": "python3"
  },
  "language_info": {
   "codemirror_mode": {
    "name": "ipython",
    "version": 3
   },
   "file_extension": ".py",
   "mimetype": "text/x-python",
   "name": "python",
   "nbconvert_exporter": "python",
   "pygments_lexer": "ipython3",
   "version": "3.6.4"
  }
 },
 "nbformat": 4,
 "nbformat_minor": 2
}
