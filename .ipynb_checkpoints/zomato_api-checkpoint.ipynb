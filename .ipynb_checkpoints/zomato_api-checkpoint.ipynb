{
 "cells": [
  {
   "cell_type": "code",
   "execution_count": 35,
   "metadata": {},
   "outputs": [],
   "source": [
    "import json\n",
    "import time\n",
    "import tweepy\n",
    "import configy as c\n",
    "import pandas as pd\n",
    "import requests as req"
   ]
  },
  {
   "cell_type": "code",
   "execution_count": 36,
   "metadata": {},
   "outputs": [],
   "source": [
    "# Zomato key\n",
    "Key = c.Key"
   ]
  },
  {
   "cell_type": "code",
   "execution_count": 37,
   "metadata": {},
   "outputs": [
    {
     "name": "stdout",
     "output_type": "stream",
     "text": [
      "flGDF0R5owMTYz8Ig9r75FLwq\n"
     ]
    }
   ],
   "source": [
    "# Twitter API Keys\n",
    "consumer_key = c.consumer_key\n",
    "consumer_secret = c.consumer_secret\n",
    "access_token = c.access_token\n",
    "access_token_secret = c.access_token_secret\n",
    "print(consumer_key)"
   ]
  },
  {
   "cell_type": "code",
   "execution_count": 38,
   "metadata": {},
   "outputs": [],
   "source": [
    "# Setup Tweepy API Authentication\n",
    "auth = tweepy.OAuthHandler(consumer_key, consumer_secret)\n",
    "auth.set_access_token(access_token, access_token_secret)\n",
    "api = tweepy.API(auth, parser=tweepy.parsers.JSONParser())"
   ]
  },
  {
   "cell_type": "code",
   "execution_count": 39,
   "metadata": {},
   "outputs": [],
   "source": [
    "# to get top 100 Austin restaurants\n",
    "def restaurant_search():\n",
    "    \n",
    "    # prompt user for input city, generate url for response, get city ID to use in loop\n",
    "    city_lookup = input('Enter a city to query:')\n",
    "    url = \"https://developers.zomato.com/api/v2.1/cities?&q=%s&results=100\" % (city_lookup)\n",
    "    response = req.get(url, headers={\"user-key\" : Key}).json()\n",
    "    city_id = response['location_suggestions'][0]['id']\n",
    "    city_name = response['location_suggestions'][0]['name']\n",
    "    \n",
    "    # build empty lists to hold restaurant info\n",
    "    names = []\n",
    "    ratings = []\n",
    "    vote_count = []\n",
    "    addresses = []\n",
    "    cuisine_types = []\n",
    "    cities = []\n",
    "    \n",
    "    # start loop to request restaurant info\n",
    "    start = 0\n",
    "    for x in range(5):\n",
    "        url = 'https://developers.zomato.com/api/v2.1/search?entity_id=%s&entity_type=city&sort=rating&order=desc&start=%s&count=500' % (city_id, start)\n",
    "        response = req.get(url, headers={'user-key':Key}).json()\n",
    "        for x in range(len(response['restaurants'])):\n",
    "            names.append(response['restaurants'][x]['restaurant']['name'])\n",
    "            ratings.append(response['restaurants'][x]['restaurant']['user_rating']['aggregate_rating'])\n",
    "            vote_count.append(response['restaurants'][x]['restaurant']['user_rating']['votes'])\n",
    "            addresses.append(response['restaurants'][x]['restaurant']['location']['address'])\n",
    "            cuisine_types.append(response['restaurants'][x]['restaurant']['cuisines'])\n",
    "            cities.append(city_name)\n",
    "        start = start + 20\n",
    "    \n",
    "    # convert lists to dataframe, export\n",
    "    df = pd.DataFrame(columns={})      \n",
    "    df['Names'] = names\n",
    "    df['Ratings'] = ratings\n",
    "    df['Vote Count'] = vote_count\n",
    "    df['Address'] = addresses\n",
    "    df['Cuisine Type'] = cuisine_types\n",
    "    df['City Name'] = cities\n",
    "    \n",
    "    # df to CSV\n",
    "    df.to_csv('Austin Restaurants.csv', index=False)\n",
    "    \n",
    "    # \n",
    "    tweet_text = \"THE top restaurants in %s this week are: 1. %s (%s), 2. %s (%s), 3. %s (%s), 4. %s (%s), & 5. %s (%s)\" % (\n",
    "    df['City Name'][0], df['Names'][0], df['Ratings'][0], df['Names'][1], df['Ratings'][1], df['Names'][2], \n",
    "    df['Ratings'][2], df['Names'][3], df['Ratings'][3], df['Names'][4], df['Ratings'][4]\n",
    "    )\n",
    "    try:\n",
    "        api.update_status(tweet_text)\n",
    "    except Exception as e:\n",
    "        print(e)\n",
    "        print(\"Attempted to tweet: {}\".format(tweet_text))"
   ]
  },
  {
   "cell_type": "code",
   "execution_count": 40,
   "metadata": {},
   "outputs": [
    {
     "name": "stdout",
     "output_type": "stream",
     "text": [
      "Enter a city to query:Houston\n"
     ]
    }
   ],
   "source": [
    "restaurant_search()"
   ]
  },
  {
   "cell_type": "code",
   "execution_count": null,
   "metadata": {},
   "outputs": [],
   "source": [
    "# # Create a function that tweets\n",
    "# def TweetOut():\n",
    "#     tweet_text = \"The top restaurants in %s this week are: 1. %s (%s), 2. %s (%s), 3. %s (%s), 4. %s (%s), & 5. %s (%s)\" % (\n",
    "#         df['City Name'][0], df['Names'][0], df['Ratings'][0], df['Names'][1], df['Ratings'][1], df['Names'][2], \n",
    "#         df['Ratings'][2], df['Names'][3], df['Ratings'][3], df['Names'][4], df['Ratings'][4])\n",
    "#     try:\n",
    "#         api.update_status(tweet_text)\n",
    "#     except Exception as e:\n",
    "#         print(e)\n",
    "#         print(\"Attempted to tweet: {}\".format(tweet_text))"
   ]
  },
  {
   "cell_type": "code",
   "execution_count": null,
   "metadata": {},
   "outputs": [],
   "source": [
    "# restaurant_search()\n",
    "# count = 0\n",
    "# while count < 10:\n",
    "#     TweetOut()\n",
    "#     # timed to tweet out once a week\n",
    "#     time.sleep(604800)\n",
    "#     count += 1"
   ]
  },
  {
   "cell_type": "code",
   "execution_count": null,
   "metadata": {},
   "outputs": [],
   "source": []
  }
 ],
 "metadata": {
  "kernelspec": {
   "display_name": "Python [conda env:learnpython]",
   "language": "python",
   "name": "conda-env-learnpython-py"
  },
  "language_info": {
   "codemirror_mode": {
    "name": "ipython",
    "version": 3
   },
   "file_extension": ".py",
   "mimetype": "text/x-python",
   "name": "python",
   "nbconvert_exporter": "python",
   "pygments_lexer": "ipython3",
   "version": "3.6.4"
  }
 },
 "nbformat": 4,
 "nbformat_minor": 2
}
