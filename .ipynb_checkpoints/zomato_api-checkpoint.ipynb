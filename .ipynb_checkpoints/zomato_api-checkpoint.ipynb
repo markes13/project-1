{
 "cells": [
  {
   "cell_type": "code",
   "execution_count": 164,
   "metadata": {},
   "outputs": [],
   "source": [
    "import json\n",
    "import requests as req\n",
    "import pandas as pd"
   ]
  },
  {
   "cell_type": "code",
   "execution_count": 165,
   "metadata": {},
   "outputs": [],
   "source": [
    "Key = '3da20c1582ac19fc8f4804414f67fc2e'"
   ]
  },
  {
   "cell_type": "code",
   "execution_count": 166,
   "metadata": {},
   "outputs": [],
   "source": [
    "# to get top 100 Austin restaurants\n",
    "def restaurant_search():\n",
    "    city_lookup = input('Enter a city to query:')\n",
    "    url = \"https://developers.zomato.com/api/v2.1/cities?&q=%s&results=100\" % (city_lookup)\n",
    "    response = req.get(url, headers={\"user-key\" : Key}).json()\n",
    "    city_id = response['location_suggestions'][0]['id']\n",
    "    start = 0\n",
    "    names = []\n",
    "    ratings = []\n",
    "    vote_count = []\n",
    "    addresses = []\n",
    "    cuisine_types = []\n",
    "    for x in range(5):\n",
    "        url = 'https://developers.zomato.com/api/v2.1/search?entity_id=%s&entity_type=city&sort=rating&order=desc&start=%s&count=500' % (city_id, start)\n",
    "        response = req.get(url, headers={'user-key':Key}).json()\n",
    "        for x in range(len(response['restaurants'])):\n",
    "            names.append(response['restaurants'][x]['restaurant']['name'])\n",
    "            ratings.append(response['restaurants'][x]['restaurant']['user_rating']['aggregate_rating'])\n",
    "            vote_count.append(response['restaurants'][x]['restaurant']['user_rating']['votes'])\n",
    "            addresses.append(response['restaurants'][x]['restaurant']['location']['address'])\n",
    "            cuisine_types.append(response['restaurants'][x]['restaurant']['cuisines'])\n",
    "        start = start + 20\n",
    "    \n",
    "    \n",
    "    df = pd.DataFrame(columns={})      \n",
    "    df['Names'] = names\n",
    "    df['Ratings'] = ratings\n",
    "    df['Vote Count'] = vote_count\n",
    "    df['Address'] = addresses\n",
    "    df['Cuisine Type'] = cuisine_types\n",
    "    df.to_csv('Austin Restaurants.csv', index=False)"
   ]
  },
  {
   "cell_type": "code",
   "execution_count": 167,
   "metadata": {},
   "outputs": [
    {
     "name": "stdout",
     "output_type": "stream",
     "text": [
      "Enter a city to query:Austin, TX\n"
     ]
    }
   ],
   "source": [
    "restaurant_search()"
   ]
  },
  {
   "cell_type": "code",
   "execution_count": null,
   "metadata": {},
   "outputs": [],
   "source": [
    "#df_to_geojson(df, lat='Latitude', lon='Longitude', properties=)"
   ]
  }
 ],
 "metadata": {
  "kernelspec": {
   "display_name": "Python [conda env:learnpython]",
   "language": "python",
   "name": "conda-env-learnpython-py"
  },
  "language_info": {
   "codemirror_mode": {
    "name": "ipython",
    "version": 3
   },
   "file_extension": ".py",
   "mimetype": "text/x-python",
   "name": "python",
   "nbconvert_exporter": "python",
   "pygments_lexer": "ipython3",
   "version": "3.6.4"
  }
 },
 "nbformat": 4,
 "nbformat_minor": 2
}
